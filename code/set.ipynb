{
 "cells": [
  {
   "cell_type": "code",
   "execution_count": 1,
   "metadata": {},
   "outputs": [],
   "source": [
    "english = set(\"ABCDEFGHIJKLMNOPQRSTUVWXYZ\")\n",
    "hawaiian = set(\"AEHIKLMNOPUW\")"
   ]
  },
  {
   "cell_type": "code",
   "execution_count": 2,
   "metadata": {},
   "outputs": [
    {
     "name": "stdout",
     "output_type": "stream",
     "text": [
      "{'R', 'B', 'V', 'M', 'W', 'U', 'X', 'O', 'J', 'C', 'F', 'T', 'D', 'P', 'A', 'K', 'N', 'L', 'Z', 'H', 'E', 'I', 'Q', 'S', 'Y', 'G'}\n"
     ]
    }
   ],
   "source": [
    "print(english)"
   ]
  },
  {
   "cell_type": "code",
   "execution_count": 3,
   "metadata": {},
   "outputs": [
    {
     "name": "stdout",
     "output_type": "stream",
     "text": [
      "26\n",
      "12\n"
     ]
    }
   ],
   "source": [
    "print(len(english))\n",
    "print(len(hawaiian))"
   ]
  },
  {
   "cell_type": "code",
   "execution_count": 5,
   "metadata": {},
   "outputs": [],
   "source": [
    "english_rep = set(\"AAABCDEFFGHIJKLLLLLLMNOPQRSTUVWXYZ\")\n",
    "hawaiian_rep = set(\"AAAEHIKLMMMMNOPUW\")"
   ]
  },
  {
   "cell_type": "code",
   "execution_count": 6,
   "metadata": {},
   "outputs": [
    {
     "name": "stdout",
     "output_type": "stream",
     "text": [
      "26\n",
      "12\n"
     ]
    }
   ],
   "source": [
    "print(len(english_rep))\n",
    "print(len(hawaiian_rep))"
   ]
  },
  {
   "cell_type": "code",
   "execution_count": 12,
   "metadata": {},
   "outputs": [],
   "source": [
    "def union(a, b):\n",
    "    for x in b:\n",
    "        a.add(x)\n",
    "    return a"
   ]
  },
  {
   "cell_type": "code",
   "execution_count": 19,
   "metadata": {},
   "outputs": [],
   "source": [
    "def intersect(a, b):\n",
    "    c = set()\n",
    "    for x in a:\n",
    "        if x in b:\n",
    "            c.add(x)\n",
    "    return c"
   ]
  },
  {
   "cell_type": "code",
   "execution_count": 20,
   "metadata": {},
   "outputs": [
    {
     "name": "stdout",
     "output_type": "stream",
     "text": [
      "{'R', 'B', 'V', 'M', 'W', 'U', 'X', 'O', 'J', 'C', 'F', 'T', 'D', 'P', 'A', 'K', 'N', 'L', 'Z', 'H', 'E', 'I', 'Q', 'S', 'Y', 'G'}\n"
     ]
    }
   ],
   "source": [
    "union_alphabets = union(english, hawaiian)\n",
    "print(union_alphabets)"
   ]
  },
  {
   "cell_type": "code",
   "execution_count": 21,
   "metadata": {},
   "outputs": [
    {
     "name": "stdout",
     "output_type": "stream",
     "text": [
      "{'A', 'E', 'I', 'O', 'K', 'M', 'N', 'W', 'L', 'U', 'H', 'P'}\n"
     ]
    }
   ],
   "source": [
    "intersect_alphabets = intersect(english, hawaiian)\n",
    "print(intersect_alphabets)"
   ]
  },
  {
   "cell_type": "code",
   "execution_count": null,
   "metadata": {},
   "outputs": [],
   "source": [
    "english_rep = set(\"AAABCDEFFGHIJKLLLLLLMNOPQRSTUVWXYZ\")\n",
    "hawaiian_rep = set(\"AAAEHIKLMMMMNOPUW\")\n",
    "\n",
    "def union(a, b):\n",
    "    for x in b:\n",
    "        a.add(x)\n",
    "    return a\n",
    "\n",
    "def intersect(a, b):\n",
    "    c = set()\n",
    "    for x in a:\n",
    "        if x in b:\n",
    "            c.add(x)\n",
    "    return c\n",
    "\n",
    "union_alphabets = union(english, hawaiian)\n",
    "print(union_alphabets)\n",
    "\n",
    "intersect_alphabets = intersect(english, hawaiian)\n",
    "print(intersect_alphabets)"
   ]
  }
 ],
 "metadata": {
  "kernelspec": {
   "display_name": "Python 3.9.1 64-bit",
   "language": "python",
   "name": "python3"
  },
  "language_info": {
   "codemirror_mode": {
    "name": "ipython",
    "version": 3
   },
   "file_extension": ".py",
   "mimetype": "text/x-python",
   "name": "python",
   "nbconvert_exporter": "python",
   "pygments_lexer": "ipython3",
   "version": "3.9.1"
  },
  "orig_nbformat": 4,
  "vscode": {
   "interpreter": {
    "hash": "aee8b7b246df8f9039afb4144a1f6fd8d2ca17a180786b69acc140d282b71a49"
   }
  }
 },
 "nbformat": 4,
 "nbformat_minor": 2
}
